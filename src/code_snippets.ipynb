{
 "cells": [
  {
   "cell_type": "code",
   "execution_count": null,
   "metadata": {},
   "outputs": [],
   "source": [
    "import pull_optionm_api_data as pull_optionm\n",
    "import clean_bloomberg as clean_bbg\n",
    "import pandas as pd\n",
    "import numpy as np\n",
    "from datetime import datetime\n",
    "from dateutil.relativedelta import relativedelta\n",
    "from settings import config\n"
   ]
  },
  {
   "cell_type": "markdown",
   "metadata": {},
   "source": [
    "$$\n",
    "1 + f_{t}^{\\pi, \\tau_2}\n",
    "= \\frac{1 + r_{t}^{f}\\,\\tau_2}{1 + r_{t}^{f}\\,\\tau_1}\n",
    "= \\frac{F_{t,\\tau_2} + \\mathbb{E}_{t}^{Q}[D_{t,\\tau_2}]}{F_{t,\\tau_1} + \\mathbb{E}_{t}^{Q}[D_{t,\\tau_1}]}\n",
    "$$"
   ]
  },
  {
   "cell_type": "markdown",
   "metadata": {},
   "source": [
    "As can be seen above, we need futures close data for the two closest maturity and the expected dividend yield as well.\n",
    "Expected dividend yield can be approximated with implied dividend yield as this is the market expectation embedded in index option."
   ]
  },
  {
   "cell_type": "markdown",
   "metadata": {},
   "source": [
    "STEP1 Implied Dividend yield from index options data "
   ]
  },
  {
   "cell_type": "code",
   "execution_count": null,
   "metadata": {},
   "outputs": [],
   "source": [
    "spx_div = pull_optionm.pull_index_implied_dividend_yield('SPX')"
   ]
  },
  {
   "cell_type": "code",
   "execution_count": null,
   "metadata": {},
   "outputs": [],
   "source": [
    "spx_div.head()"
   ]
  },
  {
   "cell_type": "markdown",
   "metadata": {},
   "source": [
    "Since we only need index dividend yield for nearest and deferred month contract, filter only those expiration dates"
   ]
  },
  {
   "cell_type": "code",
   "execution_count": null,
   "metadata": {},
   "outputs": [],
   "source": [
    "spx_div_filtered= pull_optionm.filter_index_implied_dividend_yield(spx_div)\n",
    "spx_div_filtered.head()"
   ]
  },
  {
   "cell_type": "markdown",
   "metadata": {},
   "source": [
    "We pull futures price data from the bloomberg thus, we need to clean this data as well"
   ]
  },
  {
   "cell_type": "markdown",
   "metadata": {},
   "source": [
    "Note that start date is before our scope of analysis.\n",
    "The reason for this is because when given a target date it looks for in which range of expiration is in between and then returns the one with nearest expiry and the deferred contract. But this logic can be improved.\n",
    "Moreover, even though ES1, ES2 is the first two contracts with closest expiry the reason why need ES3 is that on expiration date, we need to roll over to the next contract"
   ]
  },
  {
   "cell_type": "markdown",
   "metadata": {},
   "source": [
    "STEP2 Futures close data for each index"
   ]
  },
  {
   "cell_type": "code",
   "execution_count": null,
   "metadata": {},
   "outputs": [],
   "source": [
    "df_raw = pd.read_parquet('../data_manual/bloomberg_historical_data.parquet') # can be automated as well\n",
    "\n",
    "start_date = datetime.strftime(config(\"START_DATE\").date()-relativedelta(years=1),format=\"%Y-%m-%d\") \n",
    "end_date = datetime.strftime(config(\"END_DATE\"),format=\"%Y-%m-%d\")\n",
    "\n",
    "expiration_months = [3, 6, 9, 12]\n",
    "expiration_dates = pull_optionm.get_expiration_dates(start_date, end_date, expiration_months)\n",
    "\n",
    "# near future expiration date and far future expiration date for each dates\n",
    "date_ranges = [(start.date(), end.date()) for start, end in zip(expiration_dates, expiration_dates[1:])]\n",
    "\n",
    "spx = ['ES1 Index','ES2 Index','ES3 Index']\n",
    "spx_pairs= list(zip(spx,spx[1:]))\n",
    "\n",
    "index_future_spx = clean_bbg.get_clean_df (df_raw, date_ranges, spx_pairs)\n",
    "index_future_spx.head()"
   ]
  },
  {
   "cell_type": "markdown",
   "metadata": {},
   "source": [
    "STEP3 Convert dividend yield to a index level"
   ]
  },
  {
   "cell_type": "markdown",
   "metadata": {},
   "source": [
    "See below again at column rate, we need to multiply index level to convert the rate into a index level.\n",
    "Also preferably, it is easier to calculate further stuffs if we make each of the expiration have different columns"
   ]
  },
  {
   "cell_type": "code",
   "execution_count": null,
   "metadata": {},
   "outputs": [],
   "source": [
    "spx_div_filtered.head()"
   ]
  },
  {
   "cell_type": "code",
   "execution_count": null,
   "metadata": {},
   "outputs": [],
   "source": [
    "index_pairs_map = {\n",
    "    \"SPX\": spx_pairs\n",
    "}\n",
    "\n",
    "index_optionm_df= dict()\n",
    "index_future_df= dict()\n",
    "index_df= dict()"
   ]
  },
  {
   "cell_type": "code",
   "execution_count": null,
   "metadata": {},
   "outputs": [],
   "source": [
    "START_DATE = config(\"START_DATE\")\n",
    "END_DATE = config(\"END_DATE\")"
   ]
  },
  {
   "cell_type": "code",
   "execution_count": null,
   "metadata": {},
   "outputs": [],
   "source": [
    "df_div_yield = pull_optionm.pull_index_implied_dividend_yield(\n",
    "        \"SPX\", start_date=START_DATE, end_date=END_DATE\n",
    "    )\n",
    "\n",
    "df_loaded = pull_optionm.load_index_implied_dividend_yield(\"SPX\")\n",
    "\n",
    "df_filtered = pull_optionm.filter_index_implied_dividend_yield(df_loaded)\n",
    "df_filtered = df_filtered.sort_values(by=['date','expiration']).groupby('date').agg(list)\n",
    "df_filtered[['expiration_near','expiration_next']] = pd.DataFrame(df_filtered['expiration'].tolist(), index=df_filtered.index)\n",
    "df_filtered[['rate_near','rate_next']] = pd.DataFrame(df_filtered['rate'].tolist(), index=df_filtered.index)\n",
    "df_filtered = df_filtered.drop(columns=['expiration','rate'])\n",
    "df_filtered = df_filtered.filter(items=['date','expiration_near','expiration_next','rate_near','rate_next'])\n",
    "df_filtered.index = [ts.date() for ts in df_filtered.index]\n"
   ]
  },
  {
   "cell_type": "code",
   "execution_count": null,
   "metadata": {},
   "outputs": [],
   "source": [
    "df_filtered"
   ]
  },
  {
   "cell_type": "code",
   "execution_count": null,
   "metadata": {},
   "outputs": [],
   "source": [
    "index_optionm_df[\"SPX\"] = df_filtered\n",
    "\n",
    "index_future_df[\"SPX\"] = clean_bbg.get_clean_df(df_raw, date_ranges, index_pairs_map[\"SPX\"]) \n",
    "\n",
    "index_df[\"SPX\"] = df_raw[\"SPX\" + \" Index\"]\n",
    "index_df[\"SPX\"].dropna(inplace=True)"
   ]
  },
  {
   "cell_type": "code",
   "execution_count": null,
   "metadata": {},
   "outputs": [],
   "source": [
    "index_df['SPX'].head()"
   ]
  },
  {
   "cell_type": "code",
   "execution_count": null,
   "metadata": {},
   "outputs": [],
   "source": [
    "index_future_df['SPX'].head()"
   ]
  },
  {
   "cell_type": "code",
   "execution_count": null,
   "metadata": {},
   "outputs": [],
   "source": [
    "index_optionm_df['SPX'].head()"
   ]
  },
  {
   "cell_type": "markdown",
   "metadata": {},
   "source": [
    "However, note that implied dividend yield is annualized thus, we need to take time to maturity into account"
   ]
  },
  {
   "cell_type": "code",
   "execution_count": null,
   "metadata": {},
   "outputs": [],
   "source": [
    "index_optionm_df[\"SPX\"][['days_to_near_expiry','days_to_far_expiry']] = index_optionm_df[\"SPX\"][['expiration_near','expiration_next']].apply(lambda x: x - index_optionm_df[\"SPX\"].index)\n",
    "index_optionm_df[\"SPX\"][['days_to_near_expiry','days_to_far_expiry']] = index_optionm_df[\"SPX\"][['days_to_near_expiry','days_to_far_expiry']].applymap(lambda x: x.days)/360\n",
    "index_optionm_df[\"SPX\"][['div_near','div_next']] = index_optionm_df[\"SPX\"][['rate_near','rate_next']] .apply(lambda x: x *index_df[\"SPX\"]['PX_LAST'])/100\n",
    "index_optionm_df[\"SPX\"][['div_near', 'div_next']] = (\n",
    "index_optionm_df[\"SPX\"][['div_near', 'div_next']].values *\n",
    "index_optionm_df[\"SPX\"][['days_to_near_expiry', 'days_to_far_expiry']].values)"
   ]
  },
  {
   "cell_type": "code",
   "execution_count": null,
   "metadata": {},
   "outputs": [],
   "source": [
    "index_optionm_df[\"SPX\"]"
   ]
  },
  {
   "cell_type": "markdown",
   "metadata": {},
   "source": [
    "STEP4 Annualizing and rescaling"
   ]
  },
  {
   "cell_type": "markdown",
   "metadata": {},
   "source": [
    "Forward rate calculated with the formula I mentioned above is not annualized. We have to annualize it by a scale of inverse of remaining maturity\n",
    "Likewise, we also calculate implied forward rates on OIS rate to compare it with forward rate embedded in futures.\n",
    "Think it this way, if implied forward rate in futures > implied OIS 3M, you can enter short OIS3M ( pay fixed get float) and enter calendar spread. From calendar spread you will get fixed +alpha thus can earn float+alpha for t,tau1\n"
   ]
  },
  {
   "cell_type": "code",
   "execution_count": null,
   "metadata": {},
   "outputs": [],
   "source": [
    "implied_forward_df = dict()\n",
    "implied_forward_df[\"SPX\"] = pd.DataFrame(index=index_future_df[\"SPX\"].index, columns=['Implied Forward','Near Month TTM','Deferred Month TTM','Annualised'])\n",
    "implied_forward_df[\"SPX\"]['Implied Forward'] = (((index_future_df[\"SPX\"]['Deferred Month PX_LAST']+index_optionm_df[\"SPX\"]['div_next']) \\\n",
    "    /(index_future_df[\"SPX\"]['Near Month PX_LAST']+index_optionm_df[\"SPX\"]['div_near']))-1)*100\n",
    "implied_forward_df[\"SPX\"]['Near Month TTM'] = index_optionm_df[\"SPX\"]['days_to_near_expiry']\n",
    "implied_forward_df[\"SPX\"]['Deferred Month TTM'] = index_optionm_df[\"SPX\"]['days_to_far_expiry']\n",
    "implied_forward_df[\"SPX\"]['Annualised'] = (implied_forward_df[\"SPX\"]['Implied Forward']) / (implied_forward_df[\"SPX\"]['Deferred Month TTM'] - implied_forward_df[\"SPX\"]['Near Month TTM']) \n"
   ]
  },
  {
   "cell_type": "code",
   "execution_count": null,
   "metadata": {},
   "outputs": [],
   "source": [
    "\n",
    "ois_df = df_raw['USSOC CMPN Curncy']['PX_LAST']\n",
    "ois_df.dropna(inplace=True)\n",
    "\n",
    "implied_forward_df['OIS'] = pd.DataFrame(index=ois_df.index, columns=['Annualised'])\n",
    "implied_forward_df['OIS']['Annualised'] = ((1+ois_df/100 * implied_forward_df['SPX']['Deferred Month TTM'])/(1+ois_df/100 * implied_forward_df['SPX']['Near Month TTM'])-1)*4*100\n"
   ]
  },
  {
   "cell_type": "code",
   "execution_count": null,
   "metadata": {},
   "outputs": [],
   "source": [
    "import matplotlib.pyplot as plt\n",
    "\n",
    "\n",
    "total_df = pd.concat([implied_forward_df['SPX']['Annualised']\n",
    "\n",
    "    ,implied_forward_df['OIS']],axis=1)\n",
    "total_df.columns = ['SPX','OIS']\n",
    "total_df.dropna(inplace=True)\n",
    "\n",
    "total_df['SPX_Spread'] = total_df['SPX'] -total_df['OIS']\n",
    "total_df['SPX_Spread'] *= 100\n",
    "\n"
   ]
  },
  {
   "cell_type": "markdown",
   "metadata": {},
   "source": [
    "Final step. Plotting the spread\n"
   ]
  },
  {
   "cell_type": "code",
   "execution_count": null,
   "metadata": {},
   "outputs": [],
   "source": [
    "import yfinance as yf\n",
    "\n",
    "\n",
    "\n",
    "sp500 = yf.download('^GSPC', start=START_DATE, end=END_DATE)\n",
    "\n",
    "fig, ax1 = plt.subplots(figsize=(12,6))\n",
    "\n",
    "ax1.plot(total_df.index, total_df['SPX_Spread'],\n",
    "         label='SPX Spread', linestyle='--', color='blue')\n",
    "ax1.set_xlabel('Date')\n",
    "ax1.set_ylabel('Spread (bps)', color='blue')\n",
    "ax1.tick_params(axis='y', labelcolor='blue')\n",
    "ax1.hlines(0, total_df.index[0], total_df.index[-1],\n",
    "           color='red', linestyles='--', linewidth=1)\n",
    "ax1.set_ylim(-100, 150)\n",
    "\n",
    "ax2 = ax1.twinx()\n",
    "ax2.plot(sp500.index, np.log(sp500['Close']),\n",
    "         label='SPX', linestyle='--', color='orange')\n",
    "ax2.set_ylabel('SPX Index (log)', color='orange')\n",
    "ax2.tick_params(axis='y', labelcolor='orange')\n",
    "\n",
    "\n",
    "ax3 = ax1.twinx()\n",
    "\n",
    "ax3.spines[\"right\"].set_position((\"axes\", 1.2))\n",
    "ax3.plot(ois_df.index, ois_df.values,  \n",
    "         label='OIS', linestyle='--', color='green')\n",
    "ax3.set_ylabel('OIS', color='green')\n",
    "ax3.tick_params(axis='y', labelcolor='green')\n",
    "\n",
    "\n",
    "plt.title('Equity Index Spread with OIS')\n",
    "ax1.grid(True)\n",
    "\n",
    "\n",
    "lines_1, labels_1 = ax1.get_legend_handles_labels()\n",
    "lines_2, labels_2 = ax2.get_legend_handles_labels()\n",
    "lines_3, labels_3 = ax3.get_legend_handles_labels()\n",
    "ax1.legend(lines_1 + lines_2 + lines_3, labels_1 + labels_2 + labels_3, loc='best')\n",
    "\n",
    "plt.show()\n"
   ]
  },
  {
   "cell_type": "code",
   "execution_count": null,
   "metadata": {},
   "outputs": [],
   "source": []
  }
 ],
 "metadata": {
  "language_info": {
   "name": "python"
  }
 },
 "nbformat": 4,
 "nbformat_minor": 2
}
