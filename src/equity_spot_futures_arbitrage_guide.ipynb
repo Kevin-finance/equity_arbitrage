{
 "cells": [
  {
   "cell_type": "markdown",
   "metadata": {},
   "source": [
    "## Project Overview\n",
    "\n",
    "This Jupyter Notebook is designed to replicate the plot from the research paper:\n",
    "**'Segmented Arbitrage'** by Emil Siriwardane, Adi Sunderam, and Jonathan Wallen.\n",
    "\n",
    "\n",
    "\n",
    "### Objective\n",
    "The focus is on equity spot-futures arbitrage spreads using data from the **S&P 500 (SPX), Nasdaq 100 (NDX), and Dow Jones Industrial Average (DJI)**.\n",
    "\n",
    "We follow the methodology outlined in the paper to compute arbitrage-implied forward rates:\n",
    "\n",
    "$$ 1 + f_{\\tau1,\\tau2,t} = \\frac{F_{t,\\tau2} + E^Q_t[D_{t,\\tau2}]}{F_{t,\\tau1} + E^Q_t[D_{t,\\tau1}]} $$\n",
    "\n",
    "The arbitrage spread is computed as:\n",
    "\n",
    "$$ ESF_t = f_{\\tau1,\\tau2,t} - OIS3M_t $$\n",
    "\n",
    "This notebook provides an explanation of the code implementation and presents the final visualization.\n",
    "\n",
    "### Reference Paper\n",
    "You can access the full paper here: [Segmented Arbitrage](https://papers.ssrn.com/sol3/papers.cfm?abstract_id=3960980)\n",
    "\n"
   ]
  },
  {
   "cell_type": "markdown",
   "metadata": {},
   "source": [
    "## 1. Overview of the Dataset\n",
    "\n",
    "The dataset consists of **spot prices, futures contracts, and Overnight Index Swap (OIS) rates**.\n",
    "This section displays a preview of the dataset and checks for missing values and overall data quality."
   ]
  },
  {
   "cell_type": "code",
   "execution_count": null,
   "metadata": {},
   "outputs": [
    {
     "name": "stdout",
     "output_type": "stream",
     "text": [
      "First few rows of the dataset:\n"
     ]
    },
    {
     "data": {
      "application/vnd.microsoft.datawrangler.viewer.v0+json": {
       "columns": [
        {
         "name": "index",
         "rawType": "datetime64[ns]",
         "type": "datetime"
        },
        {
         "name": "SPX_Spot",
         "rawType": "float64",
         "type": "float"
        },
        {
         "name": "SPX_Div",
         "rawType": "float64",
         "type": "float"
        },
        {
         "name": "NDX_Spot",
         "rawType": "float64",
         "type": "float"
        },
        {
         "name": "NDX_Div",
         "rawType": "float64",
         "type": "float"
        },
        {
         "name": "DJI_Spot",
         "rawType": "float64",
         "type": "float"
        },
        {
         "name": "DJI_Div",
         "rawType": "float64",
         "type": "float"
        },
        {
         "name": "SPX_F1",
         "rawType": "float64",
         "type": "float"
        },
        {
         "name": "SPX_F2",
         "rawType": "float64",
         "type": "float"
        },
        {
         "name": "SPX_Contract",
         "rawType": "object",
         "type": "string"
        },
        {
         "name": "SPX_Contract2",
         "rawType": "object",
         "type": "string"
        },
        {
         "name": "NDX_F1",
         "rawType": "float64",
         "type": "float"
        },
        {
         "name": "NDX_F2",
         "rawType": "float64",
         "type": "float"
        },
        {
         "name": "NDX_Contract",
         "rawType": "object",
         "type": "string"
        },
        {
         "name": "NDX_Contract2",
         "rawType": "object",
         "type": "string"
        },
        {
         "name": "DJI_F1",
         "rawType": "float64",
         "type": "float"
        },
        {
         "name": "DJI_F2",
         "rawType": "float64",
         "type": "float"
        },
        {
         "name": "DJI_Contract",
         "rawType": "object",
         "type": "string"
        },
        {
         "name": "DJI_Contract2",
         "rawType": "object",
         "type": "string"
        },
        {
         "name": "OIS_3M",
         "rawType": "float64",
         "type": "float"
        },
        {
         "name": "SPX_TTM1",
         "rawType": "int64",
         "type": "integer"
        },
        {
         "name": "SPX_TTM2",
         "rawType": "int64",
         "type": "integer"
        },
        {
         "name": "NDX_TTM1",
         "rawType": "int64",
         "type": "integer"
        },
        {
         "name": "NDX_TTM2",
         "rawType": "int64",
         "type": "integer"
        },
        {
         "name": "DJI_TTM1",
         "rawType": "int64",
         "type": "integer"
        },
        {
         "name": "DJI_TTM2",
         "rawType": "int64",
         "type": "integer"
        },
        {
         "name": "SPX_exp_tau1",
         "rawType": "float64",
         "type": "float"
        },
        {
         "name": "SPX_exp_tau2",
         "rawType": "float64",
         "type": "float"
        },
        {
         "name": "SPX_daily_div",
         "rawType": "float64",
         "type": "float"
        },
        {
         "name": "NDX_exp_tau1",
         "rawType": "float64",
         "type": "float"
        },
        {
         "name": "NDX_exp_tau2",
         "rawType": "float64",
         "type": "float"
        },
        {
         "name": "NDX_daily_div",
         "rawType": "float64",
         "type": "float"
        },
        {
         "name": "DJI_exp_tau1",
         "rawType": "float64",
         "type": "float"
        },
        {
         "name": "DJI_exp_tau2",
         "rawType": "float64",
         "type": "float"
        },
        {
         "name": "DJI_daily_div",
         "rawType": "float64",
         "type": "float"
        },
        {
         "name": "SPX_exp_tau1_comp",
         "rawType": "float64",
         "type": "float"
        },
        {
         "name": "SPX_exp_tau2_comp",
         "rawType": "float64",
         "type": "float"
        },
        {
         "name": "SPX_implied_forward_raw",
         "rawType": "float64",
         "type": "float"
        },
        {
         "name": "SPX_annualized_forward_bps",
         "rawType": "float64",
         "type": "float"
        },
        {
         "name": "SPX_OIS_bps",
         "rawType": "float64",
         "type": "float"
        },
        {
         "name": "SPX_arb_spread",
         "rawType": "float64",
         "type": "float"
        },
        {
         "name": "NDX_exp_tau1_comp",
         "rawType": "float64",
         "type": "float"
        },
        {
         "name": "NDX_exp_tau2_comp",
         "rawType": "float64",
         "type": "float"
        },
        {
         "name": "NDX_implied_forward_raw",
         "rawType": "float64",
         "type": "float"
        },
        {
         "name": "NDX_annualized_forward_bps",
         "rawType": "float64",
         "type": "float"
        },
        {
         "name": "NDX_OIS_bps",
         "rawType": "float64",
         "type": "float"
        },
        {
         "name": "NDX_arb_spread",
         "rawType": "float64",
         "type": "float"
        },
        {
         "name": "DJI_exp_tau1_comp",
         "rawType": "float64",
         "type": "float"
        },
        {
         "name": "DJI_exp_tau2_comp",
         "rawType": "float64",
         "type": "float"
        },
        {
         "name": "DJI_implied_forward_raw",
         "rawType": "float64",
         "type": "float"
        },
        {
         "name": "DJI_annualized_forward_bps",
         "rawType": "float64",
         "type": "float"
        },
        {
         "name": "DJI_OIS_bps",
         "rawType": "float64",
         "type": "float"
        },
        {
         "name": "DJI_arb_spread",
         "rawType": "float64",
         "type": "float"
        }
       ],
       "conversionMethod": "pd.DataFrame",
       "ref": "7f8b859e-a11f-4b4a-a5ac-a85f1fac192e",
       "rows": [
        [
         "2010-01-04 00:00:00",
         "1132.98",
         "0.058362",
         "1886.7",
         "0.148515",
         "10583.96",
         "0.377875",
         "1128.75",
         "1124.0",
         "MAR 10",
         "JUN 10",
         "1886.75",
         "1884.75",
         "MAR 10",
         "JUN 10",
         "10519.0",
         "10459.0",
         "MAR 10",
         "JUN 10",
         "0.0016200000000000001",
         "74",
         "165",
         "74",
         "165",
         "74",
         "165",
         "4.84039",
         "9.739142000000001",
         "0.058362",
         "2.7340639999999996",
         "5.616643",
         "0.148515",
         "66.36424099999999",
         "133.106357",
         "0.377875",
         "4.841195924935",
         "9.7427576564675",
         "0.0001337005192678653",
         "5.28925131169577",
         "16.200000000000003",
         "-10.910748688304233",
         "2.7345192216559995",
         "5.6187281787137495",
         "0.00046796305979901476",
         "18.51282434369729",
         "16.200000000000003",
         "2.3128243436972866",
         "66.37529064612649",
         "133.15577273503624",
         "0.0006405518843437541",
         "25.340514105906756",
         "16.200000000000003",
         "9.140514105906753"
        ],
        [
         "2010-01-05 00:00:00",
         "1136.52",
         "0.001744",
         "1888.43",
         "0.0",
         "10572.02",
         "0.0",
         "1132.25",
         "1127.5",
         "MAR 10",
         "JUN 10",
         "1885.25",
         "1883.0",
         "MAR 10",
         "JUN 10",
         "10515.0",
         "10455.0",
         "MAR 10",
         "JUN 10",
         "0.00155",
         "73",
         "164",
         "73",
         "164",
         "73",
         "164",
         "4.838646",
         "9.737397999999999",
         "0.001744",
         "2.7340639999999996",
         "5.616643",
         "0.0",
         "66.36424099999999",
         "133.106357",
         "0.0",
         "4.839406406659583",
         "9.740835842460553",
         "0.00013317284898395343",
         "5.268376443321235",
         "15.5",
         "-10.231623556678766",
         "2.734493665752222",
         "5.618625987014722",
         "0.00033587792875944267",
         "13.287478500373558",
         "15.5",
         "-2.212521499626442",
         "66.37467032481825",
         "133.15335093881862",
         "0.0006406238154492705",
         "25.343359732059053",
         "15.5",
         "9.843359732059053"
        ],
        [
         "2010-01-06 00:00:00",
         "1137.14",
         "0.49798",
         "1878.42",
         "0.0",
         "10573.68",
         "6.763957",
         "1133.0",
         "1128.0",
         "MAR 10",
         "JUN 10",
         "1878.5",
         "1876.5",
         "MAR 10",
         "JUN 10",
         "10516.0",
         "10455.0",
         "MAR 10",
         "JUN 10",
         "0.00146",
         "72",
         "163",
         "72",
         "163",
         "72",
         "163",
         "4.340666",
         "9.239418",
         "0.49798",
         "2.7340639999999996",
         "5.616643",
         "0.0",
         "59.600283999999995",
         "126.3424",
         "6.763957",
         "4.341299737236",
         "9.242471884299501",
         "-8.689375208614791e-05",
         "-3.4375550275838735",
         "14.6",
         "-18.037555027583874",
         "2.7344631733439995",
         "5.618499456529362",
         "0.00046992349996299865",
         "18.59038021831643",
         "14.6",
         "3.99038021831643",
         "59.608985641463995",
         "126.38415967271112",
         "0.0005460843001181548",
         "21.603334949729202",
         "14.6",
         "7.003334949729203"
        ],
        [
         "2010-01-07 00:00:00",
         "1141.7",
         "0.061819",
         "1876.72",
         "0.0",
         "10606.86",
         "1.360349",
         "1137.5",
         "1132.5",
         "MAR 10",
         "JUN 10",
         "1877.5",
         "1875.0",
         "MAR 10",
         "JUN 10",
         "10545.0",
         "10484.0",
         "MAR 10",
         "JUN 10",
         "0.00145",
         "71",
         "162",
         "71",
         "162",
         "71",
         "162",
         "4.278847",
         "9.177599",
         "0.061819",
         "2.7340639999999996",
         "5.616643",
         "0.0",
         "58.239934999999996",
         "124.98205099999998",
         "1.360349",
         "4.2794588156925695",
         "9.18059319167375",
         "-8.658907222003354e-05",
         "-3.425501758155173",
         "14.499999999999998",
         "-17.92550175815517",
         "2.7344549331788883",
         "5.6184754297787505",
         "0.0002042407507172328",
         "8.079853874527892",
         "14.499999999999998",
         "-6.420146125472106",
         "58.24826250181701",
         "125.02282639413875",
         "0.0005446032903657638",
         "21.544745552931317",
         "14.499999999999998",
         "7.044745552931319"
        ],
        [
         "2010-01-08 00:00:00",
         "1144.98",
         "0.0",
         "1892.59",
         "0.0",
         "10618.19",
         "0.0",
         "1141.5",
         "1136.75",
         "MAR 10",
         "JUN 10",
         "1890.0",
         "1887.25",
         "MAR 10",
         "JUN 10",
         "10566.0",
         "10505.0",
         "MAR 10",
         "JUN 10",
         "0.0014299999999999998",
         "70",
         "161",
         "70",
         "161",
         "70",
         "161",
         "4.278847",
         "9.177599",
         "0.0",
         "2.7340639999999996",
         "5.616643",
         "0.0",
         "58.239934999999996",
         "124.98205099999998",
         "0.0",
         "4.279441878589861",
         "9.180533664746905",
         "0.00013186812455767694",
         "5.216760971512494",
         "14.299999999999999",
         "-9.083239028487505",
         "2.734444110842222",
         "5.618438999608181",
         "7.079434158474562e-05",
         "2.8006552714844424",
         "14.299999999999999",
         "-11.499344728515556",
         "58.24803196874097",
         "125.02201574666907",
         "0.0005434722307455786",
         "21.500000337187725",
         "14.299999999999999",
         "7.200000337187726"
        ]
       ],
       "shape": {
        "columns": 52,
        "rows": 5
       }
      },
      "text/html": [
       "<div>\n",
       "<style scoped>\n",
       "    .dataframe tbody tr th:only-of-type {\n",
       "        vertical-align: middle;\n",
       "    }\n",
       "\n",
       "    .dataframe tbody tr th {\n",
       "        vertical-align: top;\n",
       "    }\n",
       "\n",
       "    .dataframe thead th {\n",
       "        text-align: right;\n",
       "    }\n",
       "</style>\n",
       "<table border=\"1\" class=\"dataframe\">\n",
       "  <thead>\n",
       "    <tr style=\"text-align: right;\">\n",
       "      <th></th>\n",
       "      <th>SPX_Spot</th>\n",
       "      <th>SPX_Div</th>\n",
       "      <th>NDX_Spot</th>\n",
       "      <th>NDX_Div</th>\n",
       "      <th>DJI_Spot</th>\n",
       "      <th>DJI_Div</th>\n",
       "      <th>SPX_F1</th>\n",
       "      <th>SPX_F2</th>\n",
       "      <th>SPX_Contract</th>\n",
       "      <th>SPX_Contract2</th>\n",
       "      <th>...</th>\n",
       "      <th>NDX_implied_forward_raw</th>\n",
       "      <th>NDX_annualized_forward_bps</th>\n",
       "      <th>NDX_OIS_bps</th>\n",
       "      <th>NDX_arb_spread</th>\n",
       "      <th>DJI_exp_tau1_comp</th>\n",
       "      <th>DJI_exp_tau2_comp</th>\n",
       "      <th>DJI_implied_forward_raw</th>\n",
       "      <th>DJI_annualized_forward_bps</th>\n",
       "      <th>DJI_OIS_bps</th>\n",
       "      <th>DJI_arb_spread</th>\n",
       "    </tr>\n",
       "  </thead>\n",
       "  <tbody>\n",
       "    <tr>\n",
       "      <th>2010-01-04</th>\n",
       "      <td>1132.98</td>\n",
       "      <td>0.058362</td>\n",
       "      <td>1886.70</td>\n",
       "      <td>0.148515</td>\n",
       "      <td>10583.96</td>\n",
       "      <td>0.377875</td>\n",
       "      <td>1128.75</td>\n",
       "      <td>1124.00</td>\n",
       "      <td>MAR 10</td>\n",
       "      <td>JUN 10</td>\n",
       "      <td>...</td>\n",
       "      <td>0.000468</td>\n",
       "      <td>18.512824</td>\n",
       "      <td>16.2</td>\n",
       "      <td>2.312824</td>\n",
       "      <td>66.375291</td>\n",
       "      <td>133.155773</td>\n",
       "      <td>0.000641</td>\n",
       "      <td>25.340514</td>\n",
       "      <td>16.2</td>\n",
       "      <td>9.140514</td>\n",
       "    </tr>\n",
       "    <tr>\n",
       "      <th>2010-01-05</th>\n",
       "      <td>1136.52</td>\n",
       "      <td>0.001744</td>\n",
       "      <td>1888.43</td>\n",
       "      <td>0.000000</td>\n",
       "      <td>10572.02</td>\n",
       "      <td>0.000000</td>\n",
       "      <td>1132.25</td>\n",
       "      <td>1127.50</td>\n",
       "      <td>MAR 10</td>\n",
       "      <td>JUN 10</td>\n",
       "      <td>...</td>\n",
       "      <td>0.000336</td>\n",
       "      <td>13.287479</td>\n",
       "      <td>15.5</td>\n",
       "      <td>-2.212521</td>\n",
       "      <td>66.374670</td>\n",
       "      <td>133.153351</td>\n",
       "      <td>0.000641</td>\n",
       "      <td>25.343360</td>\n",
       "      <td>15.5</td>\n",
       "      <td>9.843360</td>\n",
       "    </tr>\n",
       "    <tr>\n",
       "      <th>2010-01-06</th>\n",
       "      <td>1137.14</td>\n",
       "      <td>0.497980</td>\n",
       "      <td>1878.42</td>\n",
       "      <td>0.000000</td>\n",
       "      <td>10573.68</td>\n",
       "      <td>6.763957</td>\n",
       "      <td>1133.00</td>\n",
       "      <td>1128.00</td>\n",
       "      <td>MAR 10</td>\n",
       "      <td>JUN 10</td>\n",
       "      <td>...</td>\n",
       "      <td>0.000470</td>\n",
       "      <td>18.590380</td>\n",
       "      <td>14.6</td>\n",
       "      <td>3.990380</td>\n",
       "      <td>59.608986</td>\n",
       "      <td>126.384160</td>\n",
       "      <td>0.000546</td>\n",
       "      <td>21.603335</td>\n",
       "      <td>14.6</td>\n",
       "      <td>7.003335</td>\n",
       "    </tr>\n",
       "    <tr>\n",
       "      <th>2010-01-07</th>\n",
       "      <td>1141.70</td>\n",
       "      <td>0.061819</td>\n",
       "      <td>1876.72</td>\n",
       "      <td>0.000000</td>\n",
       "      <td>10606.86</td>\n",
       "      <td>1.360349</td>\n",
       "      <td>1137.50</td>\n",
       "      <td>1132.50</td>\n",
       "      <td>MAR 10</td>\n",
       "      <td>JUN 10</td>\n",
       "      <td>...</td>\n",
       "      <td>0.000204</td>\n",
       "      <td>8.079854</td>\n",
       "      <td>14.5</td>\n",
       "      <td>-6.420146</td>\n",
       "      <td>58.248263</td>\n",
       "      <td>125.022826</td>\n",
       "      <td>0.000545</td>\n",
       "      <td>21.544746</td>\n",
       "      <td>14.5</td>\n",
       "      <td>7.044746</td>\n",
       "    </tr>\n",
       "    <tr>\n",
       "      <th>2010-01-08</th>\n",
       "      <td>1144.98</td>\n",
       "      <td>0.000000</td>\n",
       "      <td>1892.59</td>\n",
       "      <td>0.000000</td>\n",
       "      <td>10618.19</td>\n",
       "      <td>0.000000</td>\n",
       "      <td>1141.50</td>\n",
       "      <td>1136.75</td>\n",
       "      <td>MAR 10</td>\n",
       "      <td>JUN 10</td>\n",
       "      <td>...</td>\n",
       "      <td>0.000071</td>\n",
       "      <td>2.800655</td>\n",
       "      <td>14.3</td>\n",
       "      <td>-11.499345</td>\n",
       "      <td>58.248032</td>\n",
       "      <td>125.022016</td>\n",
       "      <td>0.000543</td>\n",
       "      <td>21.500000</td>\n",
       "      <td>14.3</td>\n",
       "      <td>7.200000</td>\n",
       "    </tr>\n",
       "  </tbody>\n",
       "</table>\n",
       "<p>5 rows × 52 columns</p>\n",
       "</div>"
      ],
      "text/plain": [
       "            SPX_Spot   SPX_Div  NDX_Spot   NDX_Div  DJI_Spot   DJI_Div  \\\n",
       "2010-01-04   1132.98  0.058362   1886.70  0.148515  10583.96  0.377875   \n",
       "2010-01-05   1136.52  0.001744   1888.43  0.000000  10572.02  0.000000   \n",
       "2010-01-06   1137.14  0.497980   1878.42  0.000000  10573.68  6.763957   \n",
       "2010-01-07   1141.70  0.061819   1876.72  0.000000  10606.86  1.360349   \n",
       "2010-01-08   1144.98  0.000000   1892.59  0.000000  10618.19  0.000000   \n",
       "\n",
       "             SPX_F1   SPX_F2 SPX_Contract SPX_Contract2  ...  \\\n",
       "2010-01-04  1128.75  1124.00       MAR 10        JUN 10  ...   \n",
       "2010-01-05  1132.25  1127.50       MAR 10        JUN 10  ...   \n",
       "2010-01-06  1133.00  1128.00       MAR 10        JUN 10  ...   \n",
       "2010-01-07  1137.50  1132.50       MAR 10        JUN 10  ...   \n",
       "2010-01-08  1141.50  1136.75       MAR 10        JUN 10  ...   \n",
       "\n",
       "            NDX_implied_forward_raw  NDX_annualized_forward_bps NDX_OIS_bps  \\\n",
       "2010-01-04                 0.000468                   18.512824        16.2   \n",
       "2010-01-05                 0.000336                   13.287479        15.5   \n",
       "2010-01-06                 0.000470                   18.590380        14.6   \n",
       "2010-01-07                 0.000204                    8.079854        14.5   \n",
       "2010-01-08                 0.000071                    2.800655        14.3   \n",
       "\n",
       "           NDX_arb_spread  DJI_exp_tau1_comp  DJI_exp_tau2_comp  \\\n",
       "2010-01-04       2.312824          66.375291         133.155773   \n",
       "2010-01-05      -2.212521          66.374670         133.153351   \n",
       "2010-01-06       3.990380          59.608986         126.384160   \n",
       "2010-01-07      -6.420146          58.248263         125.022826   \n",
       "2010-01-08     -11.499345          58.248032         125.022016   \n",
       "\n",
       "           DJI_implied_forward_raw DJI_annualized_forward_bps  DJI_OIS_bps  \\\n",
       "2010-01-04                0.000641                  25.340514         16.2   \n",
       "2010-01-05                0.000641                  25.343360         15.5   \n",
       "2010-01-06                0.000546                  21.603335         14.6   \n",
       "2010-01-07                0.000545                  21.544746         14.5   \n",
       "2010-01-08                0.000543                  21.500000         14.3   \n",
       "\n",
       "            DJI_arb_spread  \n",
       "2010-01-04        9.140514  \n",
       "2010-01-05        9.843360  \n",
       "2010-01-06        7.003335  \n",
       "2010-01-07        7.044746  \n",
       "2010-01-08        7.200000  \n",
       "\n",
       "[5 rows x 52 columns]"
      ]
     },
     "metadata": {},
     "output_type": "display_data"
    },
    {
     "name": "stdout",
     "output_type": "stream",
     "text": [
      "Summary statistics of arbitrage spreads:\n"
     ]
    },
    {
     "data": {
      "application/vnd.microsoft.datawrangler.viewer.v0+json": {
       "columns": [
        {
         "name": "index",
         "rawType": "object",
         "type": "string"
        },
        {
         "name": "SPX_arb_spread",
         "rawType": "float64",
         "type": "float"
        },
        {
         "name": "NDX_arb_spread",
         "rawType": "float64",
         "type": "float"
        },
        {
         "name": "DJI_arb_spread",
         "rawType": "float64",
         "type": "float"
        }
       ],
       "conversionMethod": "pd.DataFrame",
       "ref": "80a29b17-47dd-49ec-8e57-69418dbba96d",
       "rows": [
        [
         "count",
         "3454.0",
         "3454.0",
         "3454.0"
        ],
        [
         "mean",
         "40.18681041817098",
         "35.32090216690849",
         "43.55784248921563"
        ],
        [
         "std",
         "25.62895912900356",
         "26.91113584392633",
         "29.77991493571962"
        ],
        [
         "min",
         "-127.29541410292182",
         "-76.40841819612479",
         "-194.53845827450505"
        ],
        [
         "25%",
         "24.163613737673018",
         "16.939950255138324",
         "24.299930731521272"
        ],
        [
         "50%",
         "40.702128360384364",
         "35.39607871261907",
         "41.69673326764074"
        ],
        [
         "75%",
         "52.973602709351944",
         "50.66037249390673",
         "58.54868070047021"
        ],
        [
         "max",
         "235.37601483167816",
         "239.48105987087695",
         "379.0666957711977"
        ]
       ],
       "shape": {
        "columns": 3,
        "rows": 8
       }
      },
      "text/html": [
       "<div>\n",
       "<style scoped>\n",
       "    .dataframe tbody tr th:only-of-type {\n",
       "        vertical-align: middle;\n",
       "    }\n",
       "\n",
       "    .dataframe tbody tr th {\n",
       "        vertical-align: top;\n",
       "    }\n",
       "\n",
       "    .dataframe thead th {\n",
       "        text-align: right;\n",
       "    }\n",
       "</style>\n",
       "<table border=\"1\" class=\"dataframe\">\n",
       "  <thead>\n",
       "    <tr style=\"text-align: right;\">\n",
       "      <th></th>\n",
       "      <th>SPX_arb_spread</th>\n",
       "      <th>NDX_arb_spread</th>\n",
       "      <th>DJI_arb_spread</th>\n",
       "    </tr>\n",
       "  </thead>\n",
       "  <tbody>\n",
       "    <tr>\n",
       "      <th>count</th>\n",
       "      <td>3454.000000</td>\n",
       "      <td>3454.000000</td>\n",
       "      <td>3454.000000</td>\n",
       "    </tr>\n",
       "    <tr>\n",
       "      <th>mean</th>\n",
       "      <td>40.186810</td>\n",
       "      <td>35.320902</td>\n",
       "      <td>43.557842</td>\n",
       "    </tr>\n",
       "    <tr>\n",
       "      <th>std</th>\n",
       "      <td>25.628959</td>\n",
       "      <td>26.911136</td>\n",
       "      <td>29.779915</td>\n",
       "    </tr>\n",
       "    <tr>\n",
       "      <th>min</th>\n",
       "      <td>-127.295414</td>\n",
       "      <td>-76.408418</td>\n",
       "      <td>-194.538458</td>\n",
       "    </tr>\n",
       "    <tr>\n",
       "      <th>25%</th>\n",
       "      <td>24.163614</td>\n",
       "      <td>16.939950</td>\n",
       "      <td>24.299931</td>\n",
       "    </tr>\n",
       "    <tr>\n",
       "      <th>50%</th>\n",
       "      <td>40.702128</td>\n",
       "      <td>35.396079</td>\n",
       "      <td>41.696733</td>\n",
       "    </tr>\n",
       "    <tr>\n",
       "      <th>75%</th>\n",
       "      <td>52.973603</td>\n",
       "      <td>50.660372</td>\n",
       "      <td>58.548681</td>\n",
       "    </tr>\n",
       "    <tr>\n",
       "      <th>max</th>\n",
       "      <td>235.376015</td>\n",
       "      <td>239.481060</td>\n",
       "      <td>379.066696</td>\n",
       "    </tr>\n",
       "  </tbody>\n",
       "</table>\n",
       "</div>"
      ],
      "text/plain": [
       "       SPX_arb_spread  NDX_arb_spread  DJI_arb_spread\n",
       "count     3454.000000     3454.000000     3454.000000\n",
       "mean        40.186810       35.320902       43.557842\n",
       "std         25.628959       26.911136       29.779915\n",
       "min       -127.295414      -76.408418     -194.538458\n",
       "25%         24.163614       16.939950       24.299931\n",
       "50%         40.702128       35.396079       41.696733\n",
       "75%         52.973603       50.660372       58.548681\n",
       "max        235.376015      239.481060      379.066696"
      ]
     },
     "metadata": {},
     "output_type": "display_data"
    },
    {
     "name": "stdout",
     "output_type": "stream",
     "text": [
      "Checking missing values per column:\n"
     ]
    },
    {
     "data": {
      "text/plain": [
       "SPX_Spot                      0\n",
       "SPX_Div                       0\n",
       "NDX_Spot                      0\n",
       "NDX_Div                       0\n",
       "DJI_Spot                      0\n",
       "DJI_Div                       0\n",
       "SPX_F1                        0\n",
       "SPX_F2                        0\n",
       "SPX_Contract                  0\n",
       "SPX_Contract2                 0\n",
       "NDX_F1                        0\n",
       "NDX_F2                        0\n",
       "NDX_Contract                  0\n",
       "NDX_Contract2                 0\n",
       "DJI_F1                        0\n",
       "DJI_F2                        0\n",
       "DJI_Contract                  0\n",
       "DJI_Contract2                 0\n",
       "OIS_3M                        0\n",
       "SPX_TTM1                      0\n",
       "SPX_TTM2                      0\n",
       "NDX_TTM1                      0\n",
       "NDX_TTM2                      0\n",
       "DJI_TTM1                      0\n",
       "DJI_TTM2                      0\n",
       "SPX_exp_tau1                  0\n",
       "SPX_exp_tau2                  0\n",
       "SPX_daily_div                 0\n",
       "NDX_exp_tau1                  0\n",
       "NDX_exp_tau2                  0\n",
       "NDX_daily_div                 0\n",
       "DJI_exp_tau1                  0\n",
       "DJI_exp_tau2                  0\n",
       "DJI_daily_div                 0\n",
       "SPX_exp_tau1_comp             0\n",
       "SPX_exp_tau2_comp             0\n",
       "SPX_implied_forward_raw       0\n",
       "SPX_annualized_forward_bps    0\n",
       "SPX_OIS_bps                   0\n",
       "SPX_arb_spread                0\n",
       "NDX_exp_tau1_comp             0\n",
       "NDX_exp_tau2_comp             0\n",
       "NDX_implied_forward_raw       0\n",
       "NDX_annualized_forward_bps    0\n",
       "NDX_OIS_bps                   0\n",
       "NDX_arb_spread                0\n",
       "DJI_exp_tau1_comp             0\n",
       "DJI_exp_tau2_comp             0\n",
       "DJI_implied_forward_raw       0\n",
       "DJI_annualized_forward_bps    0\n",
       "DJI_OIS_bps                   0\n",
       "DJI_arb_spread                0\n",
       "dtype: int64"
      ]
     },
     "metadata": {},
     "output_type": "display_data"
    }
   ],
   "source": [
    "from compute_calendar_spread_OIS3M import *\n",
    "\n",
    "print(\"First few rows of the dataset:\")\n",
    "display(merged_df.head())\n",
    "\n",
    "print(\"Summary statistics of arbitrage spreads:\")\n",
    "display(merged_df[[\"SPX_arb_spread\", \"NDX_arb_spread\", \"DJI_arb_spread\"]].describe())\n",
    "\n",
    "print(\"Checking missing values per column:\")\n",
    "display(merged_df.isnull().sum())"
   ]
  },
  {
   "cell_type": "markdown",
   "metadata": {},
   "source": [
    "## 2. Expected Dividends Computation\n",
    "\n",
    "To compute expected dividends, we assume **perfect foresight dividends**, which means we use actual realized dividends to approximate expected values.\n",
    "\n",
    "This step calculates:\n",
    "- **τ₁ (exp_tau1)**: Expected dividend during the first futures contract period\n",
    "- **τ₂ (exp_tau2)**: Expected dividend for the next contract period\n",
    "- **Daily dividend**: Derived from historical dividend data\n",
    "\n",
    "```python\n",
    "for idx in [\"SPX\", \"NDX\", \"DJI\"]:\n",
    "    # Compute τ₁ using the primary contract field\n",
    "    exp_tau1, _, daily_div,_ = compute_expected_dividend(\n",
    "        merged_df, div_col=f\"{idx}_Div\", contract_col=f\"{idx}_Contract\"\n",
    "    )\n",
    "    # Compute τ₂ using the deferred contract field (i.e. the next contract)\n",
    "    # We ignore the τ₁ output from this call because we want τ₂ to come entirely from the deferred contract grouping.\n",
    "    _, exp_tau2, _,total_div = compute_expected_dividend(\n",
    "        merged_df, div_col=f\"{idx}_Div\", contract_col=f\"{idx}_Contract2\"\n",
    "    )\n",
    "    merged_df[f\"{idx}_exp_tau1\"] = exp_tau1\n",
    "    merged_df[f\"{idx}_exp_tau2\"] = exp_tau1 + total_div\n",
    "    merged_df[f\"{idx}_daily_div\"] = daily_div\n",
    "\n",
    "\n",
    "```"
   ]
  },
  {
   "cell_type": "code",
   "execution_count": 12,
   "metadata": {},
   "outputs": [
    {
     "name": "stdout",
     "output_type": "stream",
     "text": [
      "Expected Dividends for SPX:\n"
     ]
    },
    {
     "data": {
      "application/vnd.microsoft.datawrangler.viewer.v0+json": {
       "columns": [
        {
         "name": "index",
         "rawType": "datetime64[ns]",
         "type": "datetime"
        },
        {
         "name": "SPX_exp_tau1",
         "rawType": "float64",
         "type": "float"
        },
        {
         "name": "SPX_exp_tau2",
         "rawType": "float64",
         "type": "float"
        },
        {
         "name": "SPX_daily_div",
         "rawType": "float64",
         "type": "float"
        }
       ],
       "conversionMethod": "pd.DataFrame",
       "ref": "0bec9888-ff6f-4049-9432-7523fa71d419",
       "rows": [
        [
         "2010-01-04 00:00:00",
         "4.84039",
         "9.739142000000001",
         "0.058362"
        ],
        [
         "2010-01-05 00:00:00",
         "4.838646",
         "9.737397999999999",
         "0.001744"
        ],
        [
         "2010-01-06 00:00:00",
         "4.340666",
         "9.239418",
         "0.49798"
        ],
        [
         "2010-01-07 00:00:00",
         "4.278847",
         "9.177599",
         "0.061819"
        ],
        [
         "2010-01-08 00:00:00",
         "4.278847",
         "9.177599",
         "0.0"
        ]
       ],
       "shape": {
        "columns": 3,
        "rows": 5
       }
      },
      "text/html": [
       "<div>\n",
       "<style scoped>\n",
       "    .dataframe tbody tr th:only-of-type {\n",
       "        vertical-align: middle;\n",
       "    }\n",
       "\n",
       "    .dataframe tbody tr th {\n",
       "        vertical-align: top;\n",
       "    }\n",
       "\n",
       "    .dataframe thead th {\n",
       "        text-align: right;\n",
       "    }\n",
       "</style>\n",
       "<table border=\"1\" class=\"dataframe\">\n",
       "  <thead>\n",
       "    <tr style=\"text-align: right;\">\n",
       "      <th></th>\n",
       "      <th>SPX_exp_tau1</th>\n",
       "      <th>SPX_exp_tau2</th>\n",
       "      <th>SPX_daily_div</th>\n",
       "    </tr>\n",
       "  </thead>\n",
       "  <tbody>\n",
       "    <tr>\n",
       "      <th>2010-01-04</th>\n",
       "      <td>4.840390</td>\n",
       "      <td>9.739142</td>\n",
       "      <td>0.058362</td>\n",
       "    </tr>\n",
       "    <tr>\n",
       "      <th>2010-01-05</th>\n",
       "      <td>4.838646</td>\n",
       "      <td>9.737398</td>\n",
       "      <td>0.001744</td>\n",
       "    </tr>\n",
       "    <tr>\n",
       "      <th>2010-01-06</th>\n",
       "      <td>4.340666</td>\n",
       "      <td>9.239418</td>\n",
       "      <td>0.497980</td>\n",
       "    </tr>\n",
       "    <tr>\n",
       "      <th>2010-01-07</th>\n",
       "      <td>4.278847</td>\n",
       "      <td>9.177599</td>\n",
       "      <td>0.061819</td>\n",
       "    </tr>\n",
       "    <tr>\n",
       "      <th>2010-01-08</th>\n",
       "      <td>4.278847</td>\n",
       "      <td>9.177599</td>\n",
       "      <td>0.000000</td>\n",
       "    </tr>\n",
       "  </tbody>\n",
       "</table>\n",
       "</div>"
      ],
      "text/plain": [
       "            SPX_exp_tau1  SPX_exp_tau2  SPX_daily_div\n",
       "2010-01-04      4.840390      9.739142       0.058362\n",
       "2010-01-05      4.838646      9.737398       0.001744\n",
       "2010-01-06      4.340666      9.239418       0.497980\n",
       "2010-01-07      4.278847      9.177599       0.061819\n",
       "2010-01-08      4.278847      9.177599       0.000000"
      ]
     },
     "metadata": {},
     "output_type": "display_data"
    },
    {
     "name": "stdout",
     "output_type": "stream",
     "text": [
      "Expected Dividends for NDX:\n"
     ]
    },
    {
     "data": {
      "application/vnd.microsoft.datawrangler.viewer.v0+json": {
       "columns": [
        {
         "name": "index",
         "rawType": "datetime64[ns]",
         "type": "datetime"
        },
        {
         "name": "NDX_exp_tau1",
         "rawType": "float64",
         "type": "float"
        },
        {
         "name": "NDX_exp_tau2",
         "rawType": "float64",
         "type": "float"
        },
        {
         "name": "NDX_daily_div",
         "rawType": "float64",
         "type": "float"
        }
       ],
       "conversionMethod": "pd.DataFrame",
       "ref": "06a893f1-fd49-4dce-a917-0e192dd5efd7",
       "rows": [
        [
         "2010-01-04 00:00:00",
         "2.7340639999999996",
         "5.616643",
         "0.148515"
        ],
        [
         "2010-01-05 00:00:00",
         "2.7340639999999996",
         "5.616643",
         "0.0"
        ],
        [
         "2010-01-06 00:00:00",
         "2.7340639999999996",
         "5.616643",
         "0.0"
        ],
        [
         "2010-01-07 00:00:00",
         "2.7340639999999996",
         "5.616643",
         "0.0"
        ],
        [
         "2010-01-08 00:00:00",
         "2.7340639999999996",
         "5.616643",
         "0.0"
        ]
       ],
       "shape": {
        "columns": 3,
        "rows": 5
       }
      },
      "text/html": [
       "<div>\n",
       "<style scoped>\n",
       "    .dataframe tbody tr th:only-of-type {\n",
       "        vertical-align: middle;\n",
       "    }\n",
       "\n",
       "    .dataframe tbody tr th {\n",
       "        vertical-align: top;\n",
       "    }\n",
       "\n",
       "    .dataframe thead th {\n",
       "        text-align: right;\n",
       "    }\n",
       "</style>\n",
       "<table border=\"1\" class=\"dataframe\">\n",
       "  <thead>\n",
       "    <tr style=\"text-align: right;\">\n",
       "      <th></th>\n",
       "      <th>NDX_exp_tau1</th>\n",
       "      <th>NDX_exp_tau2</th>\n",
       "      <th>NDX_daily_div</th>\n",
       "    </tr>\n",
       "  </thead>\n",
       "  <tbody>\n",
       "    <tr>\n",
       "      <th>2010-01-04</th>\n",
       "      <td>2.734064</td>\n",
       "      <td>5.616643</td>\n",
       "      <td>0.148515</td>\n",
       "    </tr>\n",
       "    <tr>\n",
       "      <th>2010-01-05</th>\n",
       "      <td>2.734064</td>\n",
       "      <td>5.616643</td>\n",
       "      <td>0.000000</td>\n",
       "    </tr>\n",
       "    <tr>\n",
       "      <th>2010-01-06</th>\n",
       "      <td>2.734064</td>\n",
       "      <td>5.616643</td>\n",
       "      <td>0.000000</td>\n",
       "    </tr>\n",
       "    <tr>\n",
       "      <th>2010-01-07</th>\n",
       "      <td>2.734064</td>\n",
       "      <td>5.616643</td>\n",
       "      <td>0.000000</td>\n",
       "    </tr>\n",
       "    <tr>\n",
       "      <th>2010-01-08</th>\n",
       "      <td>2.734064</td>\n",
       "      <td>5.616643</td>\n",
       "      <td>0.000000</td>\n",
       "    </tr>\n",
       "  </tbody>\n",
       "</table>\n",
       "</div>"
      ],
      "text/plain": [
       "            NDX_exp_tau1  NDX_exp_tau2  NDX_daily_div\n",
       "2010-01-04      2.734064      5.616643       0.148515\n",
       "2010-01-05      2.734064      5.616643       0.000000\n",
       "2010-01-06      2.734064      5.616643       0.000000\n",
       "2010-01-07      2.734064      5.616643       0.000000\n",
       "2010-01-08      2.734064      5.616643       0.000000"
      ]
     },
     "metadata": {},
     "output_type": "display_data"
    },
    {
     "name": "stdout",
     "output_type": "stream",
     "text": [
      "Expected Dividends for DJI:\n"
     ]
    },
    {
     "data": {
      "application/vnd.microsoft.datawrangler.viewer.v0+json": {
       "columns": [
        {
         "name": "index",
         "rawType": "datetime64[ns]",
         "type": "datetime"
        },
        {
         "name": "DJI_exp_tau1",
         "rawType": "float64",
         "type": "float"
        },
        {
         "name": "DJI_exp_tau2",
         "rawType": "float64",
         "type": "float"
        },
        {
         "name": "DJI_daily_div",
         "rawType": "float64",
         "type": "float"
        }
       ],
       "conversionMethod": "pd.DataFrame",
       "ref": "62e3a1ea-f872-454e-a578-be6f6417d141",
       "rows": [
        [
         "2010-01-04 00:00:00",
         "66.36424099999999",
         "133.106357",
         "0.377875"
        ],
        [
         "2010-01-05 00:00:00",
         "66.36424099999999",
         "133.106357",
         "0.0"
        ],
        [
         "2010-01-06 00:00:00",
         "59.600283999999995",
         "126.3424",
         "6.763957"
        ],
        [
         "2010-01-07 00:00:00",
         "58.239934999999996",
         "124.98205099999998",
         "1.360349"
        ],
        [
         "2010-01-08 00:00:00",
         "58.239934999999996",
         "124.98205099999998",
         "0.0"
        ]
       ],
       "shape": {
        "columns": 3,
        "rows": 5
       }
      },
      "text/html": [
       "<div>\n",
       "<style scoped>\n",
       "    .dataframe tbody tr th:only-of-type {\n",
       "        vertical-align: middle;\n",
       "    }\n",
       "\n",
       "    .dataframe tbody tr th {\n",
       "        vertical-align: top;\n",
       "    }\n",
       "\n",
       "    .dataframe thead th {\n",
       "        text-align: right;\n",
       "    }\n",
       "</style>\n",
       "<table border=\"1\" class=\"dataframe\">\n",
       "  <thead>\n",
       "    <tr style=\"text-align: right;\">\n",
       "      <th></th>\n",
       "      <th>DJI_exp_tau1</th>\n",
       "      <th>DJI_exp_tau2</th>\n",
       "      <th>DJI_daily_div</th>\n",
       "    </tr>\n",
       "  </thead>\n",
       "  <tbody>\n",
       "    <tr>\n",
       "      <th>2010-01-04</th>\n",
       "      <td>66.364241</td>\n",
       "      <td>133.106357</td>\n",
       "      <td>0.377875</td>\n",
       "    </tr>\n",
       "    <tr>\n",
       "      <th>2010-01-05</th>\n",
       "      <td>66.364241</td>\n",
       "      <td>133.106357</td>\n",
       "      <td>0.000000</td>\n",
       "    </tr>\n",
       "    <tr>\n",
       "      <th>2010-01-06</th>\n",
       "      <td>59.600284</td>\n",
       "      <td>126.342400</td>\n",
       "      <td>6.763957</td>\n",
       "    </tr>\n",
       "    <tr>\n",
       "      <th>2010-01-07</th>\n",
       "      <td>58.239935</td>\n",
       "      <td>124.982051</td>\n",
       "      <td>1.360349</td>\n",
       "    </tr>\n",
       "    <tr>\n",
       "      <th>2010-01-08</th>\n",
       "      <td>58.239935</td>\n",
       "      <td>124.982051</td>\n",
       "      <td>0.000000</td>\n",
       "    </tr>\n",
       "  </tbody>\n",
       "</table>\n",
       "</div>"
      ],
      "text/plain": [
       "            DJI_exp_tau1  DJI_exp_tau2  DJI_daily_div\n",
       "2010-01-04     66.364241    133.106357       0.377875\n",
       "2010-01-05     66.364241    133.106357       0.000000\n",
       "2010-01-06     59.600284    126.342400       6.763957\n",
       "2010-01-07     58.239935    124.982051       1.360349\n",
       "2010-01-08     58.239935    124.982051       0.000000"
      ]
     },
     "metadata": {},
     "output_type": "display_data"
    }
   ],
   "source": [
    "\n",
    "print(\"Expected Dividends for SPX:\")\n",
    "display(merged_df[[\"SPX_exp_tau1\", \"SPX_exp_tau2\", \"SPX_daily_div\"]].head())\n",
    "\n",
    "print(\"Expected Dividends for NDX:\")\n",
    "display(merged_df[[\"NDX_exp_tau1\", \"NDX_exp_tau2\", \"NDX_daily_div\"]].head())\n",
    "\n",
    "print(\"Expected Dividends for DJI:\")\n",
    "display(merged_df[[\"DJI_exp_tau1\", \"DJI_exp_tau2\", \"DJI_daily_div\"]].head())"
   ]
  },
  {
   "cell_type": "markdown",
   "metadata": {},
   "source": [
    "## 3. Outlier Detection and Cleaning\n",
    "\n",
    "To ensure accuracy, we remove extreme outliers in the arbitrage spread using a rolling **Median Absolute Deviation (MAD)** filter.\n",
    "Outliers are defined as values more than **5 times the rolling MAD**.\n",
    "\n",
    "\n",
    "```python\n",
    "\n",
    "for idx in [\"SPX\", \"NDX\", \"DJI\"]:\n",
    "    arb_series = merged_df[f\"{idx}_arb_spread\"]\n",
    "    rolling_median = arb_series.rolling(window='45D', center=True).median()\n",
    "    abs_dev = (arb_series - rolling_median).abs()\n",
    "    rolling_mad = abs_dev.rolling(window='45D', center=True).mean()\n",
    "    outliers = (abs_dev / rolling_mad) >= 5\n",
    "    merged_df.loc[outliers, f\"{idx}_annualized_forward_bps\"] = np.nan\n",
    "    merged_df[f\"{idx}_arb_spread\"] = merged_df[f\"{idx}_annualized_forward_bps\"] - merged_df[f\"{idx}_OIS_bps\"]\n",
    "\n",
    "```"
   ]
  },
  {
   "cell_type": "markdown",
   "metadata": {},
   "source": [
    "## 3. Visualization of Arbitrage Spreads\n",
    "\n",
    "This section plots the arbitrage spread for SPX, NDX, and DJI over time.\n",
    "The arbitrage spread is defined as the difference between the implied forward rate and the OIS3M rate.\n",
    "\n",
    "A positive spread indicates that the implied forward rate is greater than the risk-free OIS rate, suggesting **potential mispricing**.\n",
    "\n",
    "### Reference Plot from the Paper\n",
    "Below is the original figure from the research paper that we aim to replicate:"
   ]
  },
  {
   "cell_type": "markdown",
   "metadata": {},
   "source": [
    "<img src=\"../data_manual/plot_research_paper.png\" />"
   ]
  },
  {
   "cell_type": "markdown",
   "metadata": {},
   "source": [
    "### Replicated Arbitrage Spread Plot\n",
    "The following plot is generated from our computed data to match the paper’s findings."
   ]
  },
  {
   "cell_type": "code",
   "execution_count": 14,
   "metadata": {},
   "outputs": [
    {
     "data": {
      "image/png": "[encoded data removed]",
      "text/plain": [
       "<Figure size 800x600 with 1 Axes>"
      ]
     },
     "metadata": {},
     "output_type": "display_data"
    }
   ],
   "source": [
    "plt.figure(figsize=(8, 6))\n",
    "plt.rcParams[\"font.family\"] = \"Times New Roman\"\n",
    "plt.plot(merged_df.index, merged_df[\"SPX_arb_spread\"], label=\"SPX\", color=\"blue\", linewidth=1)\n",
    "plt.plot(merged_df.index, merged_df[\"DJI_arb_spread\"], label=\"DJI\", color=dji_color, linewidth=1)\n",
    "plt.plot(merged_df.index, merged_df[\"NDX_arb_spread\"], label=\"NDAQ\", color=\"green\", linewidth=1)\n",
    "plt.xlabel(\"Dates\", fontsize=14)\n",
    "plt.xlim([datetime(2009, 11, 1), datetime(2024, 1, 1)])\n",
    "plt.ylim([-60, 150])\n",
    "plt.yticks(np.arange(-50, 151, 50))\n",
    "plt.gca().yaxis.set_tick_params(rotation=90, labelsize=12)\n",
    "plt.xticks(fontsize=12)\n",
    "plt.gca().xaxis.set_major_locator(mdates.YearLocator(2))\n",
    "plt.ylabel(\"Arbitrage Spread (bps)\", fontsize=14)\n",
    "plt.title(\"(c) Equity-Spot Futures\", fontsize=14)\n",
    "plt.grid(axis=\"y\", linestyle=\"--\", alpha=0.6)\n",
    "plt.legend(fontsize=10, loc=\"lower right\")\n",
    "plt.gca().spines[\"top\"].set_visible(False)\n",
    "plt.gca().spines[\"right\"].set_visible(False)\n",
    "plt.gca().xaxis.set_major_formatter(mdates.DateFormatter('%-m/%-d/%Y'))\n",
    "plt.tight_layout()\n",
    "plt.show()\n"
   ]
  },
  {
   "cell_type": "markdown",
   "metadata": {},
   "source": [
    "## 5. Conclusion and Next Steps\n",
    "\n",
    "### Key Insights:\n",
    "- Arbitrage spreads are computed as the difference between **futures-implied risk-free rates** and **OIS3M risk-free rates**.\n",
    "- Data processing includes:\n",
    "  - Extracting **spot prices, futures contracts, and interest rate data**\n",
    "  - Computing **expected dividends**\n",
    "  - Removing **outliers in arbitrage spreads**\n",
    "- The **final plot** visualizes arbitrage spreads for SPX, NDX, and DJI over time.\n",
    "\n",
    "### Next Steps and Potential Applications:\n",
    "- Investigate alternative data sources for **dividends and risk-free rates**.\n",
    "- Conduct further **robustness checks** to validate computed spreads.\n",
    "- Expand analysis to other arbitrage opportunities such as **put-call parity and CDS-bond spreads**.\n",
    "\n",
    "This analysis provides a solid foundation for **replicating the research paper's methodology** and further refining the arbitrage spread computation."
   ]
  }
 ],
 "metadata": {
  "kernelspec": {
   "display_name": "finm",
   "language": "python",
   "name": "python3"
  },
  "language_info": {
   "codemirror_mode": {
    "name": "ipython",
    "version": 3
   },
   "file_extension": ".py",
   "mimetype": "text/x-python",
   "name": "python",
   "nbconvert_exporter": "python",
   "pygments_lexer": "ipython3",
   "version": "3.12.8"
  }
 },
 "nbformat": 4,
 "nbformat_minor": 2
}
