{
 "cells": [
  {
   "cell_type": "markdown",
   "metadata": {},
   "source": [
    "## Project Overview\n",
    "\n",
    "This Jupyter Notebook is designed to replicate the plot from the research paper:\n",
    "**'Segmented Arbitrage'** by Emil Siriwardane, Adi Sunderam, and Jonathan Wallen.\n",
    "\n",
    "\n",
    "\n",
    "### Objective\n",
    "The focus is on equity spot-futures arbitrage spreads using data from the **S&P 500 (SPX), Nasdaq 100 (NDX), and Dow Jones Industrial Average (DJI)**.\n",
    "\n",
    "We follow the methodology outlined in the paper to compute arbitrage-implied forward rates:\n",
    "\n",
    "$$ 1 + f_{\\tau1,\\tau2,t} = \\frac{F_{t,\\tau2} + E^Q_t[D_{t,\\tau2}]}{F_{t,\\tau1} + E^Q_t[D_{t,\\tau1}]} $$\n",
    "\n",
    "The arbitrage spread is computed as:\n",
    "\n",
    "$$ ESF_t = f_{\\tau1,\\tau2,t} - OIS3M_t $$\n",
    "\n",
    "This notebook provides an explanation of the code implementation and presents the final visualization.\n",
    "\n",
    "### Reference Paper\n",
    "You can access the full paper here: [Segmented Arbitrage](https://papers.ssrn.com/sol3/papers.cfm?abstract_id=3960980)\n",
    "\n"
   ]
  },
  {
   "cell_type": "markdown",
   "metadata": {},
   "source": [
    "## 1. Overview of the Dataset\n",
    "\n",
    "The dataset consists of **spot prices, futures contracts, and Overnight Index Swap (OIS) rates**.\n",
    "This section displays a preview of the dataset and checks for missing values and overall data quality."
   ]
  },
  {
   "cell_type": "code",
   "execution_count": null,
   "metadata": {},
   "outputs": [],
   "source": [
    "from compute_calendar_spread_OIS3M import *\n",
    "\n",
    "print(\"First few rows of the dataset:\")\n",
    "display(merged_df.head())\n",
    "\n",
    "print(\"Summary statistics of arbitrage spreads:\")\n",
    "display(merged_df[[\"SPX_arb_spread\", \"NDX_arb_spread\", \"DJI_arb_spread\"]].describe())\n",
    "\n",
    "print(\"Checking missing values per column:\")\n",
    "display(merged_df.isnull().sum())"
   ]
  },
  {
   "cell_type": "markdown",
   "metadata": {},
   "source": [
    "## 2. Expected Dividends Computation\n",
    "\n",
    "To compute expected dividends, we assume **perfect foresight dividends**, which means we use actual realized dividends to approximate expected values.\n",
    "\n",
    "This step calculates:\n",
    "- **τ₁ (exp_tau1)**: Expected dividend during the first futures contract period\n",
    "- **τ₂ (exp_tau2)**: Expected dividend for the next contract period\n",
    "- **Daily dividend**: Derived from historical dividend data\n",
    "\n",
    "```python\n",
    "for idx in [\"SPX\", \"NDX\", \"DJI\"]:\n",
    "    # Compute τ₁ using the primary contract field\n",
    "    exp_tau1, _, daily_div,_ = compute_expected_dividend(\n",
    "        merged_df, div_col=f\"{idx}_Div\", contract_col=f\"{idx}_Contract\"\n",
    "    )\n",
    "    # Compute τ₂ using the deferred contract field (i.e. the next contract)\n",
    "    # We ignore the τ₁ output from this call because we want τ₂ to come entirely from the deferred contract grouping.\n",
    "    _, exp_tau2, _,total_div = compute_expected_dividend(\n",
    "        merged_df, div_col=f\"{idx}_Div\", contract_col=f\"{idx}_Contract2\"\n",
    "    )\n",
    "    merged_df[f\"{idx}_exp_tau1\"] = exp_tau1\n",
    "    merged_df[f\"{idx}_exp_tau2\"] = exp_tau1 + total_div\n",
    "    merged_df[f\"{idx}_daily_div\"] = daily_div\n",
    "\n",
    "\n",
    "```"
   ]
  },
  {
   "cell_type": "code",
   "execution_count": null,
   "metadata": {},
   "outputs": [],
   "source": [
    "\n",
    "print(\"Expected Dividends for SPX:\")\n",
    "display(merged_df[[\"SPX_exp_tau1\", \"SPX_exp_tau2\", \"SPX_daily_div\"]].head())\n",
    "\n",
    "print(\"Expected Dividends for NDX:\")\n",
    "display(merged_df[[\"NDX_exp_tau1\", \"NDX_exp_tau2\", \"NDX_daily_div\"]].head())\n",
    "\n",
    "print(\"Expected Dividends for DJI:\")\n",
    "display(merged_df[[\"DJI_exp_tau1\", \"DJI_exp_tau2\", \"DJI_daily_div\"]].head())"
   ]
  },
  {
   "cell_type": "markdown",
   "metadata": {},
   "source": [
    "## 3. Outlier Detection and Cleaning\n",
    "\n",
    "To ensure accuracy, we remove extreme outliers in the arbitrage spread using a rolling **Median Absolute Deviation (MAD)** filter.\n",
    "Outliers are defined as values more than **5 times the rolling MAD**.\n",
    "\n",
    "\n",
    "```python\n",
    "\n",
    "for idx in [\"SPX\", \"NDX\", \"DJI\"]:\n",
    "    arb_series = merged_df[f\"{idx}_arb_spread\"]\n",
    "    rolling_median = arb_series.rolling(window='45D', center=True).median()\n",
    "    abs_dev = (arb_series - rolling_median).abs()\n",
    "    rolling_mad = abs_dev.rolling(window='45D', center=True).mean()\n",
    "    outliers = (abs_dev / rolling_mad) >= 5\n",
    "    merged_df.loc[outliers, f\"{idx}_annualized_forward_bps\"] = np.nan\n",
    "    merged_df[f\"{idx}_arb_spread\"] = merged_df[f\"{idx}_annualized_forward_bps\"] - merged_df[f\"{idx}_OIS_bps\"]\n",
    "\n",
    "```"
   ]
  },
  {
   "cell_type": "markdown",
   "metadata": {},
   "source": [
    "## 3. Visualization of Arbitrage Spreads\n",
    "\n",
    "This section plots the arbitrage spread for SPX, NDX, and DJI over time.\n",
    "The arbitrage spread is defined as the difference between the implied forward rate and the OIS3M rate.\n",
    "\n",
    "A positive spread indicates that the implied forward rate is greater than the risk-free OIS rate, suggesting **potential mispricing**.\n",
    "\n",
    "### Reference Plot from the Paper\n",
    "Below is the original figure from the research paper that we aim to replicate:"
   ]
  },
  {
   "cell_type": "markdown",
   "metadata": {},
   "source": [
    "<img src=\"../data_manual/plot_research_paper.png\" />"
   ]
  },
  {
   "cell_type": "markdown",
   "metadata": {},
   "source": [
    "### Replicated Arbitrage Spread Plot\n",
    "The following plot is generated from our computed data to match the paper’s findings."
   ]
  },
  {
   "cell_type": "code",
   "execution_count": null,
   "metadata": {},
   "outputs": [],
   "source": [
    "plt.figure(figsize=(11, 7))\n",
    "plt.rcParams[\"font.family\"] = \"Times New Roman\"\n",
    "plt.plot(merged_df.index, merged_df[\"SPX_arb_spread\"], label=\"SPX\", color=\"blue\", linewidth=1)\n",
    "plt.plot(merged_df.index, merged_df[\"DJI_arb_spread\"], label=\"DJI\", color=dji_color, linewidth=1)\n",
    "plt.plot(merged_df.index, merged_df[\"NDX_arb_spread\"], label=\"NDAQ\", color=\"green\", linewidth=1)\n",
    "plt.xlabel(\"Dates\", fontsize=14)\n",
    "plt.xlim([datetime(2009, 11, 1), datetime(2024, 1, 1)])\n",
    "plt.ylim([-60, 150])\n",
    "plt.yticks(np.arange(-50, 151, 50))\n",
    "plt.gca().yaxis.set_tick_params(rotation=90, labelsize=12)\n",
    "plt.xticks(fontsize=12)\n",
    "plt.gca().xaxis.set_major_locator(mdates.YearLocator(2))\n",
    "plt.ylabel(\"Arbitrage Spread (bps)\", fontsize=14)\n",
    "plt.title(\"(c) Equity-Spot Futures\", fontsize=14)\n",
    "plt.grid(axis=\"y\", linestyle=\"--\", alpha=0.6)\n",
    "plt.legend(fontsize=10, loc=\"lower right\")\n",
    "plt.gca().spines[\"top\"].set_visible(False)\n",
    "plt.gca().spines[\"right\"].set_visible(False)\n",
    "plt.gca().xaxis.set_major_formatter(mdates.DateFormatter('%-m/%-d/%Y'))\n",
    "plt.tight_layout()\n",
    "plt.show()\n"
   ]
  },
  {
   "cell_type": "markdown",
   "metadata": {},
   "source": [
    "## 5. Conclusion and Next Steps\n",
    "\n",
    "### Key Insights:\n",
    "- Arbitrage spreads are computed as the difference between **futures-implied risk-free rates** and **OIS3M risk-free rates**.\n",
    "- Data processing includes:\n",
    "  - Extracting **spot prices, futures contracts, and interest rate data**\n",
    "  - Computing **expected dividends**\n",
    "  - Removing **outliers in arbitrage spreads**\n",
    "- The **final plot** visualizes arbitrage spreads for SPX, NDX, and DJI over time.\n",
    "\n",
    "### Next Steps and Potential Applications:\n",
    "- Investigate alternative data sources for **dividends and risk-free rates**.\n",
    "- Conduct further **robustness checks** to validate computed spreads.\n",
    "- Expand analysis to other arbitrage opportunities such as **put-call parity and CDS-bond spreads**.\n",
    "\n",
    "This analysis provides a solid foundation for **replicating the research paper's methodology** and further refining the arbitrage spread computation."
   ]
  }
 ],
 "metadata": {
  "language_info": {
   "name": "python"
  }
 },
 "nbformat": 4,
 "nbformat_minor": 2
}
